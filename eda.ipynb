{
 "cells": [
  {
   "cell_type": "code",
   "execution_count": 1,
   "metadata": {
    "collapsed": true
   },
   "outputs": [],
   "source": [
    "import pandas as pd\n",
    "import numpy as np\n",
    "import matplotlib.pyplot as plt\n",
    "%matplotlib inline"
   ]
  },
  {
   "cell_type": "code",
   "execution_count": 2,
   "metadata": {
    "collapsed": true
   },
   "outputs": [],
   "source": [
    "#Combine 12 month data\n",
    "def concat_df():\n",
    "    df = pd.read_csv('data/201601.csv')\n",
    "    for num in range(2, 13):\n",
    "        if num < 10:\n",
    "            temp = pd.read_csv(\"data/20160\"+str(num)+\".csv\")\n",
    "        else:\n",
    "            temp = pd.read_csv(\"data/2016\"+str(num)+\".csv\")\n",
    "        df = pd.concat([df, temp])\n",
    "    return df"
   ]
  },
  {
   "cell_type": "code",
   "execution_count": 3,
   "metadata": {
    "collapsed": false
   },
   "outputs": [],
   "source": [
    "df = concat_df()\n",
    "\n",
    "#fill missing value with 0\n",
    "df.fillna(0, inplace=True)"
   ]
  },
  {
   "cell_type": "code",
   "execution_count": 4,
   "metadata": {
    "collapsed": false,
    "scrolled": false
   },
   "outputs": [
    {
     "data": {
      "text/plain": [
       "Index([u'YEAR', u'MONTH', u'DAY_OF_WEEK', u'FL_DATE', u'CARRIER', u'FL_NUM',\n",
       "       u'ORIGIN', u'DEST', u'DEP_TIME', u'ARR_TIME', u'ARR_DELAY_NEW',\n",
       "       u'ACTUAL_ELAPSED_TIME', u'AIR_TIME', u'FLIGHTS', u'DISTANCE',\n",
       "       u'DISTANCE_GROUP', u'Unnamed: 16'],\n",
       "      dtype='object')"
      ]
     },
     "execution_count": 4,
     "metadata": {},
     "output_type": "execute_result"
    }
   ],
   "source": [
    "df.columns"
   ]
  },
  {
   "cell_type": "code",
   "execution_count": 5,
   "metadata": {
    "collapsed": false,
    "scrolled": true
   },
   "outputs": [
    {
     "data": {
      "text/plain": [
       "12"
      ]
     },
     "execution_count": 5,
     "metadata": {},
     "output_type": "execute_result"
    }
   ],
   "source": [
    "len(df.CARRIER.unique())"
   ]
  },
  {
   "cell_type": "code",
   "execution_count": 6,
   "metadata": {
    "collapsed": false
   },
   "outputs": [
    {
     "data": {
      "text/plain": [
       "313"
      ]
     },
     "execution_count": 6,
     "metadata": {},
     "output_type": "execute_result"
    }
   ],
   "source": [
    "len(df.ORIGIN.unique())"
   ]
  },
  {
   "cell_type": "code",
   "execution_count": 7,
   "metadata": {
    "collapsed": false
   },
   "outputs": [
    {
     "data": {
      "text/plain": [
       "310"
      ]
     },
     "execution_count": 7,
     "metadata": {},
     "output_type": "execute_result"
    }
   ],
   "source": [
    "len(df.DEST.unique())"
   ]
  },
  {
   "cell_type": "code",
   "execution_count": 8,
   "metadata": {
    "collapsed": false,
    "scrolled": true
   },
   "outputs": [
    {
     "data": {
      "text/html": [
       "<div>\n",
       "<table border=\"1\" class=\"dataframe\">\n",
       "  <thead>\n",
       "    <tr style=\"text-align: right;\">\n",
       "      <th></th>\n",
       "      <th>count</th>\n",
       "      <th>mean</th>\n",
       "      <th>std</th>\n",
       "      <th>min</th>\n",
       "      <th>25%</th>\n",
       "      <th>50%</th>\n",
       "      <th>75%</th>\n",
       "      <th>max</th>\n",
       "    </tr>\n",
       "  </thead>\n",
       "  <tbody>\n",
       "    <tr>\n",
       "      <th>YEAR</th>\n",
       "      <td>5617658.0</td>\n",
       "      <td>2016.000000</td>\n",
       "      <td>0.000000</td>\n",
       "      <td>2016.0</td>\n",
       "      <td>2016.0</td>\n",
       "      <td>2016.0</td>\n",
       "      <td>2016.0</td>\n",
       "      <td>2016.0</td>\n",
       "    </tr>\n",
       "    <tr>\n",
       "      <th>MONTH</th>\n",
       "      <td>5617658.0</td>\n",
       "      <td>6.535810</td>\n",
       "      <td>3.400847</td>\n",
       "      <td>1.0</td>\n",
       "      <td>4.0</td>\n",
       "      <td>7.0</td>\n",
       "      <td>9.0</td>\n",
       "      <td>12.0</td>\n",
       "    </tr>\n",
       "    <tr>\n",
       "      <th>DAY_OF_WEEK</th>\n",
       "      <td>5617658.0</td>\n",
       "      <td>3.933906</td>\n",
       "      <td>1.985502</td>\n",
       "      <td>1.0</td>\n",
       "      <td>2.0</td>\n",
       "      <td>4.0</td>\n",
       "      <td>6.0</td>\n",
       "      <td>7.0</td>\n",
       "    </tr>\n",
       "    <tr>\n",
       "      <th>FL_NUM</th>\n",
       "      <td>5617658.0</td>\n",
       "      <td>2078.519748</td>\n",
       "      <td>1700.416510</td>\n",
       "      <td>1.0</td>\n",
       "      <td>711.0</td>\n",
       "      <td>1639.0</td>\n",
       "      <td>2855.0</td>\n",
       "      <td>8402.0</td>\n",
       "    </tr>\n",
       "    <tr>\n",
       "      <th>DEP_TIME</th>\n",
       "      <td>5617658.0</td>\n",
       "      <td>1318.575864</td>\n",
       "      <td>519.163335</td>\n",
       "      <td>0.0</td>\n",
       "      <td>907.0</td>\n",
       "      <td>1322.0</td>\n",
       "      <td>1740.0</td>\n",
       "      <td>2400.0</td>\n",
       "    </tr>\n",
       "    <tr>\n",
       "      <th>ARR_TIME</th>\n",
       "      <td>5617658.0</td>\n",
       "      <td>1453.797934</td>\n",
       "      <td>555.212867</td>\n",
       "      <td>0.0</td>\n",
       "      <td>1043.0</td>\n",
       "      <td>1504.0</td>\n",
       "      <td>1915.0</td>\n",
       "      <td>2400.0</td>\n",
       "    </tr>\n",
       "    <tr>\n",
       "      <th>ARR_DELAY_NEW</th>\n",
       "      <td>5617658.0</td>\n",
       "      <td>11.679572</td>\n",
       "      <td>38.117639</td>\n",
       "      <td>0.0</td>\n",
       "      <td>0.0</td>\n",
       "      <td>0.0</td>\n",
       "      <td>6.0</td>\n",
       "      <td>2142.0</td>\n",
       "    </tr>\n",
       "    <tr>\n",
       "      <th>ACTUAL_ELAPSED_TIME</th>\n",
       "      <td>5617658.0</td>\n",
       "      <td>138.176936</td>\n",
       "      <td>76.928250</td>\n",
       "      <td>0.0</td>\n",
       "      <td>82.0</td>\n",
       "      <td>120.0</td>\n",
       "      <td>172.0</td>\n",
       "      <td>778.0</td>\n",
       "    </tr>\n",
       "    <tr>\n",
       "      <th>AIR_TIME</th>\n",
       "      <td>5617658.0</td>\n",
       "      <td>114.877469</td>\n",
       "      <td>74.291836</td>\n",
       "      <td>0.0</td>\n",
       "      <td>60.0</td>\n",
       "      <td>96.0</td>\n",
       "      <td>147.0</td>\n",
       "      <td>723.0</td>\n",
       "    </tr>\n",
       "    <tr>\n",
       "      <th>FLIGHTS</th>\n",
       "      <td>5617658.0</td>\n",
       "      <td>1.000000</td>\n",
       "      <td>0.000000</td>\n",
       "      <td>1.0</td>\n",
       "      <td>1.0</td>\n",
       "      <td>1.0</td>\n",
       "      <td>1.0</td>\n",
       "      <td>1.0</td>\n",
       "    </tr>\n",
       "    <tr>\n",
       "      <th>DISTANCE</th>\n",
       "      <td>5617658.0</td>\n",
       "      <td>850.078581</td>\n",
       "      <td>619.500137</td>\n",
       "      <td>25.0</td>\n",
       "      <td>391.0</td>\n",
       "      <td>678.0</td>\n",
       "      <td>1091.0</td>\n",
       "      <td>4983.0</td>\n",
       "    </tr>\n",
       "    <tr>\n",
       "      <th>DISTANCE_GROUP</th>\n",
       "      <td>5617658.0</td>\n",
       "      <td>3.872194</td>\n",
       "      <td>2.436703</td>\n",
       "      <td>1.0</td>\n",
       "      <td>2.0</td>\n",
       "      <td>3.0</td>\n",
       "      <td>5.0</td>\n",
       "      <td>11.0</td>\n",
       "    </tr>\n",
       "    <tr>\n",
       "      <th>Unnamed: 16</th>\n",
       "      <td>5617658.0</td>\n",
       "      <td>0.000000</td>\n",
       "      <td>0.000000</td>\n",
       "      <td>0.0</td>\n",
       "      <td>0.0</td>\n",
       "      <td>0.0</td>\n",
       "      <td>0.0</td>\n",
       "      <td>0.0</td>\n",
       "    </tr>\n",
       "  </tbody>\n",
       "</table>\n",
       "</div>"
      ],
      "text/plain": [
       "                         count         mean          std     min     25%  \\\n",
       "YEAR                 5617658.0  2016.000000     0.000000  2016.0  2016.0   \n",
       "MONTH                5617658.0     6.535810     3.400847     1.0     4.0   \n",
       "DAY_OF_WEEK          5617658.0     3.933906     1.985502     1.0     2.0   \n",
       "FL_NUM               5617658.0  2078.519748  1700.416510     1.0   711.0   \n",
       "DEP_TIME             5617658.0  1318.575864   519.163335     0.0   907.0   \n",
       "ARR_TIME             5617658.0  1453.797934   555.212867     0.0  1043.0   \n",
       "ARR_DELAY_NEW        5617658.0    11.679572    38.117639     0.0     0.0   \n",
       "ACTUAL_ELAPSED_TIME  5617658.0   138.176936    76.928250     0.0    82.0   \n",
       "AIR_TIME             5617658.0   114.877469    74.291836     0.0    60.0   \n",
       "FLIGHTS              5617658.0     1.000000     0.000000     1.0     1.0   \n",
       "DISTANCE             5617658.0   850.078581   619.500137    25.0   391.0   \n",
       "DISTANCE_GROUP       5617658.0     3.872194     2.436703     1.0     2.0   \n",
       "Unnamed: 16          5617658.0     0.000000     0.000000     0.0     0.0   \n",
       "\n",
       "                        50%     75%     max  \n",
       "YEAR                 2016.0  2016.0  2016.0  \n",
       "MONTH                   7.0     9.0    12.0  \n",
       "DAY_OF_WEEK             4.0     6.0     7.0  \n",
       "FL_NUM               1639.0  2855.0  8402.0  \n",
       "DEP_TIME             1322.0  1740.0  2400.0  \n",
       "ARR_TIME             1504.0  1915.0  2400.0  \n",
       "ARR_DELAY_NEW           0.0     6.0  2142.0  \n",
       "ACTUAL_ELAPSED_TIME   120.0   172.0   778.0  \n",
       "AIR_TIME               96.0   147.0   723.0  \n",
       "FLIGHTS                 1.0     1.0     1.0  \n",
       "DISTANCE              678.0  1091.0  4983.0  \n",
       "DISTANCE_GROUP          3.0     5.0    11.0  \n",
       "Unnamed: 16             0.0     0.0     0.0  "
      ]
     },
     "execution_count": 8,
     "metadata": {},
     "output_type": "execute_result"
    }
   ],
   "source": [
    "df.describe().T"
   ]
  },
  {
   "cell_type": "code",
   "execution_count": 9,
   "metadata": {
    "collapsed": false
   },
   "outputs": [],
   "source": [
    "#Create label: 1 = delayed, 0 = on-time\n",
    "df['label'] = df['ARR_DELAY_NEW'].map(lambda x: 1 if x > 0 else 0)"
   ]
  },
  {
   "cell_type": "code",
   "execution_count": 10,
   "metadata": {
    "collapsed": false
   },
   "outputs": [
    {
     "data": {
      "text/plain": [
       "0    0.664489\n",
       "1    0.335511\n",
       "Name: label, dtype: float64"
      ]
     },
     "execution_count": 10,
     "metadata": {},
     "output_type": "execute_result"
    }
   ],
   "source": [
    "#Percentage of each label class\n",
    "delay_pec = df.label.value_counts()*1.0/sum(df.label.value_counts())*100.0\n",
    "\n",
    "# 34% of flight were delayed!\n",
    "df.label.value_counts()/sum(df.label.value_counts())"
   ]
  },
  {
   "cell_type": "code",
   "execution_count": 11,
   "metadata": {
    "collapsed": false,
    "scrolled": false
   },
   "outputs": [
    {
     "data": {
      "image/png": "[encoded data removed]",
      "text/plain": [
       "<matplotlib.figure.Figure at 0x11135af90>"
      ]
     },
     "metadata": {},
     "output_type": "display_data"
    }
   ],
   "source": [
    "#Percentage graph of Flight Status\n",
    "status_graph = delay_pec.plot(kind='bar', title='Flihgts OnTime vs. Delayed', color='br', grid=True)\n",
    "plt.xticks([0,1], ['OnTime','Delayed'], rotation=45)\n",
    "plt.xlabel(\"Flight Status\")\n",
    "plt.ylabel(\"Percentage %\")\n",
    "plt.show()"
   ]
  },
  {
   "cell_type": "code",
   "execution_count": 12,
   "metadata": {
    "collapsed": false,
    "scrolled": true
   },
   "outputs": [
    {
     "data": {
      "image/png": "[encoded data removed]",
      "text/plain": [
       "<matplotlib.figure.Figure at 0x1195f0290>"
      ]
     },
     "metadata": {},
     "output_type": "display_data"
    }
   ],
   "source": [
    "#Graph grouped by Carrier\n",
    "\n",
    "#Create data source for graph\n",
    "g_carrier = (df.groupby(['CARRIER', 'label']).count()['YEAR']*100/df.groupby(['CARRIER']).count()['YEAR']).to_frame()\n",
    "g_carrier.reset_index(level=0, inplace=True)\n",
    "g_carrier.reset_index(level=0, inplace=True)\n",
    "g_carrier.columns = ['label', 'CARRIER', 'pec']\n",
    "\n",
    "plt.figure(figsize=(12,6))\n",
    "\n",
    "#Percentage of flight status grouped by Carrier\n",
    "plt.subplot(1,2,1)\n",
    "#First Bottom graph\n",
    "carrier_ontime = g_carrier[g_carrier.label == 0]['pec']\n",
    "#Fist Top graph\n",
    "carrier_delayed = g_carrier[g_carrier.label == 1]['pec']\n",
    "\n",
    "N = len(carrier_ontime)\n",
    "ind = np.arange(N)\n",
    "\n",
    "p1 = plt.bar(ind, carrier_delayed, color='#d62728')\n",
    "p2 = plt.bar(ind, carrier_ontime, bottom=carrier_delayed)\n",
    "\n",
    "plt.title(\"Percentage of Flights Delayed/OnTime by Carrier\")\n",
    "plt.legend((p1[0], p2[0]), ('Delayed','OnTime'))\n",
    "plt.ylabel('Percentage %')\n",
    "plt.xlabel('Carrier')\n",
    "plt.xticks(ind, list(g_carrier.CARRIER.unique()))\n",
    "\n",
    "#Flight counts by Carrier\n",
    "plt.subplot(1,2,2)\n",
    "carrier_counts = df.groupby(['CARRIER']).count()['YEAR']\n",
    "N1 = len(carrier_counts)\n",
    "ind1 = np.arange(N1)\n",
    "plt.bar(ind1,carrier_counts, color='g')\n",
    "plt.title(\"Flights Counts by Carrier\")\n",
    "plt.ylabel('Flight Counts')\n",
    "plt.xlabel('Carrier')\n",
    "plt.xticks(ind1, list(g_carrier.CARRIER.unique()))\n",
    "plt.tight_layout()\n",
    "plt.show()"
   ]
  },
  {
   "cell_type": "code",
   "execution_count": 13,
   "metadata": {
    "collapsed": false,
    "scrolled": false
   },
   "outputs": [
    {
     "name": "stderr",
     "output_type": "stream",
     "text": [
      "/Users/jeewonlee/anaconda/lib/python2.7/site-packages/ipykernel/__main__.py:15: UserWarning: Boolean Series key will be reindexed to match DataFrame index.\n"
     ]
    },
    {
     "data": {
      "image/png": "[encoded data removed]",
      "text/plain": [
       "<matplotlib.figure.Figure at 0x11ab5bad0>"
      ]
     },
     "metadata": {},
     "output_type": "display_data"
    }
   ],
   "source": [
    "#Graph grouped by DOW\n",
    "\n",
    "#Create data source for graph\n",
    "g_dow = (df.groupby(['DAY_OF_WEEK', 'label']).count()['YEAR']*100/df.groupby(['DAY_OF_WEEK']).count()['YEAR']).to_frame()\n",
    "g_dow.reset_index(level=0, inplace=True)\n",
    "g_dow.reset_index(level=0, inplace=True)\n",
    "g_dow.columns = ['label', 'DOW', 'pec']\n",
    "\n",
    "plt.figure(figsize=(12,6))\n",
    "plt.subplot(1,2,1)\n",
    "#Percentage flight status grouped by DOW\n",
    "#First Bottom graph\n",
    "dow_ontime = g_dow[g_dow.label == 0]['pec']\n",
    "#First Top graph\n",
    "dow_delayed = g_dow[g_carrier.label == 1]['pec']\n",
    "\n",
    "N = len(dow_ontime)\n",
    "ind = np.arange(N)\n",
    "\n",
    "p1 = plt.bar(ind, dow_delayed, color='#d62728')\n",
    "p2 = plt.bar(ind, dow_ontime, bottom=dow_delayed)\n",
    "\n",
    "plt.title(\"Percentage of Flights Delayed/OnTime by Day of Week\")\n",
    "plt.legend((p1[0], p2[0]), ('Delayed','OnTime'))\n",
    "plt.ylabel('Percentage %')\n",
    "plt.xlabel('Day of Week')\n",
    "plt.xticks(ind, ('Mon','Tue','Wed','Thr','Fri','Sat','Sun'))\n",
    "\n",
    "#Flight counts by DOW\n",
    "plt.subplot(1,2,2)\n",
    "dow_counts = df.groupby(['DAY_OF_WEEK']).count()['YEAR']\n",
    "N1 = len(dow_counts)\n",
    "ind1 = np.arange(N1)\n",
    "plt.bar(ind1,dow_counts, color='y')\n",
    "plt.title(\"Flights Counts by Day of Week\")\n",
    "plt.ylabel('Flight Counts')\n",
    "plt.xlabel('Day of Week')\n",
    "plt.xticks(ind1, ('Mon','Tue','Wed','Thr','Fri','Sat','Sun'))\n",
    "plt.tight_layout()\n",
    "plt.show()"
   ]
  },
  {
   "cell_type": "code",
   "execution_count": 14,
   "metadata": {
    "collapsed": false
   },
   "outputs": [
    {
     "data": {
      "text/plain": [
       "CARRIER\n",
       "AA     914495\n",
       "AS     177280\n",
       "B6     282473\n",
       "DL     922746\n",
       "EV     490990\n",
       "F9      95121\n",
       "HA      76789\n",
       "NK     138199\n",
       "OO     605933\n",
       "UA     545067\n",
       "VX      69121\n",
       "WN    1299444\n",
       "Name: YEAR, dtype: int64"
      ]
     },
     "execution_count": 14,
     "metadata": {},
     "output_type": "execute_result"
    }
   ],
   "source": [
    "carrier_counts"
   ]
  },
  {
   "cell_type": "code",
   "execution_count": 15,
   "metadata": {
    "collapsed": false,
    "scrolled": true
   },
   "outputs": [
    {
     "data": {
      "text/plain": [
       "count       313.000000\n",
       "mean      17947.789137\n",
       "std       43001.429367\n",
       "min           1.000000\n",
       "25%         939.000000\n",
       "50%        2568.000000\n",
       "75%        9944.000000\n",
       "max      384375.000000\n",
       "Name: YEAR, dtype: float64"
      ]
     },
     "execution_count": 15,
     "metadata": {},
     "output_type": "execute_result"
    }
   ],
   "source": [
    "# Number of flights per Origin statistics\n",
    "(df.groupby('ORIGIN').count()['YEAR'].sort_values(ascending=False)).describe().T"
   ]
  },
  {
   "cell_type": "code",
   "execution_count": 16,
   "metadata": {
    "collapsed": false
   },
   "outputs": [
    {
     "data": {
      "text/plain": [
       "ORIGIN\n",
       "MDT    2549\n",
       "MRY    2544\n",
       "MLI    2527\n",
       "Name: YEAR, dtype: int64"
      ]
     },
     "execution_count": 16,
     "metadata": {},
     "output_type": "execute_result"
    }
   ],
   "source": [
    "df.groupby('ORIGIN').count()['YEAR'].sort_values(ascending=False).head(161).tail(3)"
   ]
  },
  {
   "cell_type": "code",
   "execution_count": 17,
   "metadata": {
    "collapsed": false
   },
   "outputs": [],
   "source": [
    "#origin_list total flight counts more than 2500\n",
    "origin_list = df.groupby('ORIGIN').count()['YEAR'].sort_values(ascending=False).head(161).to_frame().index"
   ]
  },
  {
   "cell_type": "code",
   "execution_count": 18,
   "metadata": {
    "collapsed": false
   },
   "outputs": [
    {
     "data": {
      "text/plain": [
       "Index([u'ATL', u'ORD', u'DEN', u'LAX', u'DFW', u'SFO', u'PHX', u'LAS', u'IAH',\n",
       "       u'SEA',\n",
       "       ...\n",
       "       u'EVV', u'MSO', u'AGS', u'BFL', u'ILM', u'TLH', u'CRW', u'MDT', u'MRY',\n",
       "       u'MLI'],\n",
       "      dtype='object', name=u'ORIGIN', length=161)"
      ]
     },
     "execution_count": 18,
     "metadata": {},
     "output_type": "execute_result"
    }
   ],
   "source": [
    "origin_list"
   ]
  },
  {
   "cell_type": "code",
   "execution_count": 19,
   "metadata": {
    "collapsed": false
   },
   "outputs": [],
   "source": [
    "temp = df.copy()\n",
    "temp['mark'] = temp['ORIGIN'].map(lambda x: x in origin_list)"
   ]
  },
  {
   "cell_type": "code",
   "execution_count": 20,
   "metadata": {
    "collapsed": false
   },
   "outputs": [],
   "source": [
    "df_origin_2500 = temp[temp['mark']==True]"
   ]
  },
  {
   "cell_type": "code",
   "execution_count": 21,
   "metadata": {
    "collapsed": false
   },
   "outputs": [
    {
     "data": {
      "text/html": [
       "<div>\n",
       "<table border=\"1\" class=\"dataframe\">\n",
       "  <thead>\n",
       "    <tr style=\"text-align: right;\">\n",
       "      <th></th>\n",
       "      <th>YEAR</th>\n",
       "      <th>MONTH</th>\n",
       "      <th>DAY_OF_WEEK</th>\n",
       "      <th>FL_DATE</th>\n",
       "      <th>CARRIER</th>\n",
       "      <th>FL_NUM</th>\n",
       "      <th>ORIGIN</th>\n",
       "      <th>DEST</th>\n",
       "      <th>DEP_TIME</th>\n",
       "      <th>ARR_TIME</th>\n",
       "      <th>ARR_DELAY_NEW</th>\n",
       "      <th>ACTUAL_ELAPSED_TIME</th>\n",
       "      <th>AIR_TIME</th>\n",
       "      <th>FLIGHTS</th>\n",
       "      <th>DISTANCE</th>\n",
       "      <th>DISTANCE_GROUP</th>\n",
       "      <th>Unnamed: 16</th>\n",
       "      <th>label</th>\n",
       "      <th>mark</th>\n",
       "    </tr>\n",
       "  </thead>\n",
       "  <tbody>\n",
       "    <tr>\n",
       "      <th>460946</th>\n",
       "      <td>2016</td>\n",
       "      <td>12</td>\n",
       "      <td>4</td>\n",
       "      <td>2016-12-29</td>\n",
       "      <td>VX</td>\n",
       "      <td>710</td>\n",
       "      <td>SFO</td>\n",
       "      <td>DAL</td>\n",
       "      <td>713.0</td>\n",
       "      <td>1223.0</td>\n",
       "      <td>0.0</td>\n",
       "      <td>190.0</td>\n",
       "      <td>177.0</td>\n",
       "      <td>1.0</td>\n",
       "      <td>1476.0</td>\n",
       "      <td>6</td>\n",
       "      <td>0.0</td>\n",
       "      <td>0</td>\n",
       "      <td>True</td>\n",
       "    </tr>\n",
       "    <tr>\n",
       "      <th>460947</th>\n",
       "      <td>2016</td>\n",
       "      <td>12</td>\n",
       "      <td>4</td>\n",
       "      <td>2016-12-29</td>\n",
       "      <td>VX</td>\n",
       "      <td>713</td>\n",
       "      <td>DAL</td>\n",
       "      <td>SFO</td>\n",
       "      <td>757.0</td>\n",
       "      <td>954.0</td>\n",
       "      <td>0.0</td>\n",
       "      <td>237.0</td>\n",
       "      <td>207.0</td>\n",
       "      <td>1.0</td>\n",
       "      <td>1476.0</td>\n",
       "      <td>6</td>\n",
       "      <td>0.0</td>\n",
       "      <td>0</td>\n",
       "      <td>True</td>\n",
       "    </tr>\n",
       "    <tr>\n",
       "      <th>460948</th>\n",
       "      <td>2016</td>\n",
       "      <td>12</td>\n",
       "      <td>4</td>\n",
       "      <td>2016-12-29</td>\n",
       "      <td>VX</td>\n",
       "      <td>714</td>\n",
       "      <td>SFO</td>\n",
       "      <td>DAL</td>\n",
       "      <td>1222.0</td>\n",
       "      <td>1742.0</td>\n",
       "      <td>0.0</td>\n",
       "      <td>200.0</td>\n",
       "      <td>177.0</td>\n",
       "      <td>1.0</td>\n",
       "      <td>1476.0</td>\n",
       "      <td>6</td>\n",
       "      <td>0.0</td>\n",
       "      <td>0</td>\n",
       "      <td>True</td>\n",
       "    </tr>\n",
       "  </tbody>\n",
       "</table>\n",
       "</div>"
      ],
      "text/plain": [
       "        YEAR  MONTH  DAY_OF_WEEK     FL_DATE CARRIER  FL_NUM ORIGIN DEST  \\\n",
       "460946  2016     12            4  2016-12-29      VX     710    SFO  DAL   \n",
       "460947  2016     12            4  2016-12-29      VX     713    DAL  SFO   \n",
       "460948  2016     12            4  2016-12-29      VX     714    SFO  DAL   \n",
       "\n",
       "        DEP_TIME  ARR_TIME  ARR_DELAY_NEW  ACTUAL_ELAPSED_TIME  AIR_TIME  \\\n",
       "460946     713.0    1223.0            0.0                190.0     177.0   \n",
       "460947     757.0     954.0            0.0                237.0     207.0   \n",
       "460948    1222.0    1742.0            0.0                200.0     177.0   \n",
       "\n",
       "        FLIGHTS  DISTANCE  DISTANCE_GROUP  Unnamed: 16  label  mark  \n",
       "460946      1.0    1476.0               6          0.0      0  True  \n",
       "460947      1.0    1476.0               6          0.0      0  True  \n",
       "460948      1.0    1476.0               6          0.0      0  True  "
      ]
     },
     "execution_count": 21,
     "metadata": {},
     "output_type": "execute_result"
    }
   ],
   "source": [
    "df_origin_2500.tail(3)"
   ]
  },
  {
   "cell_type": "code",
   "execution_count": 22,
   "metadata": {
    "collapsed": false
   },
   "outputs": [],
   "source": [
    "#Percentage of flight status grouped by Origin\n",
    "\n",
    "#Create data source for graph\n",
    "g_origin = (df_origin_2500.groupby(['ORIGIN', 'label']).count()['YEAR']*100/df_origin_2500.groupby(['ORIGIN']).count()['YEAR']).to_frame()\n",
    "g_origin.reset_index(level=0, inplace=True)\n",
    "g_origin.reset_index(level=0, inplace=True)\n",
    "g_origin.columns = ['label', 'ORIGIN', 'pec']"
   ]
  },
  {
   "cell_type": "code",
   "execution_count": 23,
   "metadata": {
    "collapsed": false,
    "scrolled": false
   },
   "outputs": [],
   "source": [
    "top10_delayed_origin = (g_origin[g_origin.label==1].sort_values('pec', ascending=False)['ORIGIN'].head(10).values)"
   ]
  },
  {
   "cell_type": "code",
   "execution_count": 24,
   "metadata": {
    "collapsed": false,
    "scrolled": true
   },
   "outputs": [
    {
     "data": {
      "text/plain": [
       "array(['OAK', 'DAL', 'LAX', 'MIA', 'HOU', 'DFW', 'SMF', 'LAS', 'SFO', 'ORD'], dtype=object)"
      ]
     },
     "execution_count": 24,
     "metadata": {},
     "output_type": "execute_result"
    }
   ],
   "source": [
    "top10_delayed_origin"
   ]
  },
  {
   "cell_type": "code",
   "execution_count": 25,
   "metadata": {
    "collapsed": false
   },
   "outputs": [],
   "source": [
    "temp = df.copy()\n",
    "temp['mark'] = temp['ORIGIN'].map(lambda x: x in top10_delayed_origin)\n",
    "df_origin_10 = temp[temp['mark']==True]"
   ]
  },
  {
   "cell_type": "code",
   "execution_count": 26,
   "metadata": {
    "collapsed": false
   },
   "outputs": [],
   "source": [
    "g_origin_top10= (df_origin_10.groupby(['ORIGIN', 'label']).count()['YEAR']*100/df_origin_10.groupby(['ORIGIN']).count()['YEAR']).to_frame()\n",
    "g_origin_top10.reset_index(level=0, inplace=True)\n",
    "g_origin_top10.reset_index(level=0, inplace=True)\n",
    "g_origin_top10.columns = ['label', 'ORIGIN', 'pec']"
   ]
  },
  {
   "cell_type": "code",
   "execution_count": 27,
   "metadata": {
    "collapsed": false,
    "scrolled": false
   },
   "outputs": [],
   "source": [
    "sorted_top10_index = list(g_origin_top10[g_origin_top10.label == 1]['pec'].reset_index(drop=True).argsort().values[::-1])"
   ]
  },
  {
   "cell_type": "code",
   "execution_count": 28,
   "metadata": {
    "collapsed": false,
    "scrolled": true
   },
   "outputs": [
    {
     "data": {
      "text/plain": [
       "6     48819\n",
       "0     68963\n",
       "4    212983\n",
       "5     69658\n",
       "2     54202\n",
       "1    196049\n",
       "9     41261\n",
       "3    150686\n",
       "8    172358\n",
       "7    244082\n",
       "Name: YEAR, dtype: int64"
      ]
     },
     "execution_count": 28,
     "metadata": {},
     "output_type": "execute_result"
    }
   ],
   "source": [
    "df_origin_10.groupby(['ORIGIN']).count()['YEAR'].reset_index(drop=True)[sorted_top10_index]"
   ]
  },
  {
   "cell_type": "code",
   "execution_count": 29,
   "metadata": {
    "collapsed": false
   },
   "outputs": [
    {
     "data": {
      "image/png": "[encoded data removed]",
      "text/plain": [
       "<matplotlib.figure.Figure at 0x11b0ee9d0>"
      ]
     },
     "metadata": {},
     "output_type": "display_data"
    }
   ],
   "source": [
    "plt.figure(figsize=(12,6))\n",
    "\n",
    "#Percentage of flight status by Top 10 dealyed origin cities\n",
    "plt.subplot(1,2,1)\n",
    "#Bottom graph\n",
    "origin_top10_ontime = g_origin_top10[g_origin_top10.label == 0]['pec'].reset_index(drop=True)[sorted_top10_index]\n",
    "#Top graph\n",
    "origin_top10_delayed = g_origin_top10[g_origin_top10.label == 1]['pec'].reset_index(drop=True)[sorted_top10_index]\n",
    "\n",
    "N = len(origin_top10_ontime)\n",
    "ind = np.arange(N)\n",
    "\n",
    "p1 = plt.bar(ind, origin_top10_delayed, color='#d62728')\n",
    "p2 = plt.bar(ind, origin_top10_ontime, bottom=origin_top10_delayed)\n",
    "\n",
    "plt.title(\"Percentage of Flights Delayed/OnTime by Top 10 Delayed Origin Cities\")\n",
    "plt.legend((p1[0], p2[0]), ('Delayed','OnTime'))\n",
    "plt.ylabel('Percentage %')\n",
    "plt.xlabel('Origins')\n",
    "plt.xticks(ind, list(top10_delayed_origin))\n",
    "\n",
    "#Flight counts by Top 10 delayed origin cities\n",
    "plt.subplot(1,2,2)\n",
    "origin_10_counts = df_origin_10.groupby(['ORIGIN']).count()['YEAR'].reset_index(drop=True)[sorted_top10_index]\n",
    "N1 = len(origin_10_counts)\n",
    "ind1 = np.arange(N1)\n",
    "plt.bar(ind1,origin_10_counts, color='y')\n",
    "plt.title(\"Flights Counts by Top 10 Delayed Origin Cities\")\n",
    "plt.ylabel('Flight Counts')\n",
    "plt.xlabel('Origins')\n",
    "plt.xticks(ind1, list(top10_delayed_origin))\n",
    "plt.tight_layout()\n",
    "plt.show()"
   ]
  },
  {
   "cell_type": "code",
   "execution_count": 30,
   "metadata": {
    "collapsed": false,
    "scrolled": true
   },
   "outputs": [
    {
     "data": {
      "text/plain": [
       "count    5.617658e+06\n",
       "mean     1.318576e+03\n",
       "std      5.191633e+02\n",
       "min      0.000000e+00\n",
       "25%      9.070000e+02\n",
       "50%      1.322000e+03\n",
       "75%      1.740000e+03\n",
       "max      2.400000e+03\n",
       "Name: DEP_TIME, dtype: float64"
      ]
     },
     "execution_count": 30,
     "metadata": {},
     "output_type": "execute_result"
    }
   ],
   "source": [
    "df.DEP_TIME.describe().T"
   ]
  },
  {
   "cell_type": "code",
   "execution_count": 31,
   "metadata": {
    "collapsed": false,
    "scrolled": true
   },
   "outputs": [],
   "source": [
    "#Create departure time group\n",
    "dep_label = ['00-04','04-08','08-12','12-16','16-20','20-24']\n",
    "df['DEP_TIME_BINS'] = pd.cut(df.DEP_TIME,[0.0, 400.0, 800.0, 1200.0, 1600.0, 2000.00, 2400.00] ,labels=dep_label)"
   ]
  },
  {
   "cell_type": "code",
   "execution_count": 32,
   "metadata": {
    "collapsed": false
   },
   "outputs": [
    {
     "data": {
      "text/plain": [
       "count     5554202\n",
       "unique          6\n",
       "top         08-12\n",
       "freq      1348685\n",
       "Name: DEP_TIME_BINS, dtype: object"
      ]
     },
     "execution_count": 32,
     "metadata": {},
     "output_type": "execute_result"
    }
   ],
   "source": [
    "df.DEP_TIME_BINS.describe().T"
   ]
  },
  {
   "cell_type": "code",
   "execution_count": 33,
   "metadata": {
    "collapsed": false,
    "scrolled": false
   },
   "outputs": [
    {
     "data": {
      "image/png": "[encoded data removed]",
      "text/plain": [
       "<matplotlib.figure.Figure at 0x1196515d0>"
      ]
     },
     "metadata": {},
     "output_type": "display_data"
    }
   ],
   "source": [
    "#Graph by Departure Time\n",
    "\n",
    "g_dep_time= (df.groupby(['DEP_TIME_BINS', 'label']).count()['YEAR']*100/df.groupby(['DEP_TIME_BINS']).count()['YEAR']).to_frame()\n",
    "g_dep_time.reset_index(level=0, inplace=True)\n",
    "g_dep_time.reset_index(level=0, inplace=True)\n",
    "g_dep_time.columns = ['label', 'DEP_TIME_BINS', 'pec']\n",
    "\n",
    "#Bottom graph\n",
    "dep_time_ontime = g_dep_time[g_dep_time.label == 0]['pec']\n",
    "#Top graph\n",
    "dep_time_delayed = g_dep_time[g_dep_time.label == 1]['pec']\n",
    "\n",
    "plt.figure(figsize=(12,6))\n",
    "plt.subplot(121)\n",
    "N = len(dep_time_ontime)\n",
    "ind = np.arange(N)\n",
    "p1 = plt.bar(ind, dep_time_delayed, color='#d62728')\n",
    "p2 = plt.bar(ind, dep_time_ontime, bottom=dep_time_delayed)\n",
    "\n",
    "plt.title(\"Percentage of Flights Delayed/OnTime by Departure Time Groups\")\n",
    "plt.legend((p1[0], p2[0]), ('Delayed','OnTime'))\n",
    "plt.ylabel('Percentage %')\n",
    "plt.xlabel('Departure Time Group')\n",
    "plt.xticks(ind, dep_label, rotation=45)\n",
    "\n",
    "# Bar group flight counts grouped by Departure Time\n",
    "plt.subplot(122)\n",
    "dep_time_counts = df.groupby(['DEP_TIME_BINS']).count()['YEAR']\n",
    "N1 = len(dep_time_counts)\n",
    "ind1 = np.arange(N1)\n",
    "plt.bar(ind1,dep_time_counts, color='y')\n",
    "plt.title(\"Flights Counts grouped by Departure Time\")\n",
    "plt.ylabel('Flight Counts')\n",
    "plt.xlabel('Departure Time Group')\n",
    "plt.xticks(ind1, dep_label, rotation=45)\n",
    "plt.tight_layout()\n",
    "plt.show()"
   ]
  },
  {
   "cell_type": "code",
   "execution_count": 34,
   "metadata": {
    "collapsed": false,
    "scrolled": true
   },
   "outputs": [
    {
     "data": {
      "text/plain": [
       "count    5.617658e+06\n",
       "mean     3.872194e+00\n",
       "std      2.436703e+00\n",
       "min      1.000000e+00\n",
       "25%      2.000000e+00\n",
       "50%      3.000000e+00\n",
       "75%      5.000000e+00\n",
       "max      1.100000e+01\n",
       "Name: DISTANCE_GROUP, dtype: float64"
      ]
     },
     "execution_count": 34,
     "metadata": {},
     "output_type": "execute_result"
    }
   ],
   "source": [
    "df.DISTANCE_GROUP.describe().T"
   ]
  },
  {
   "cell_type": "code",
   "execution_count": 35,
   "metadata": {
    "collapsed": false
   },
   "outputs": [
    {
     "data": {
      "text/plain": [
       "array([ 8,  3,  7,  4,  1,  2, 10,  5,  6, 11,  9])"
      ]
     },
     "execution_count": 35,
     "metadata": {},
     "output_type": "execute_result"
    }
   ],
   "source": [
    "df.DISTANCE_GROUP.unique()"
   ]
  },
  {
   "cell_type": "code",
   "execution_count": 36,
   "metadata": {
    "collapsed": false,
    "scrolled": false
   },
   "outputs": [],
   "source": [
    "distance_group_label = [\"Less Than 250 Miles\",\"250-499 Miles\",\"500-749 Miles\",\"750-999 Miles\",\"1000-1249 Miles\",\"1250-1499 Miles\",\"1500-1749 Miles\"\n",
    ",\"1750-1999 Miles\",\"2000-2249 Miles\",\"2250-2499 Miles\",\"2500 Miles and Greater\"]"
   ]
  },
  {
   "cell_type": "code",
   "execution_count": 37,
   "metadata": {
    "collapsed": false,
    "scrolled": true
   },
   "outputs": [
    {
     "data": {
      "image/png": "[encoded data removed]",
      "text/plain": [
       "<matplotlib.figure.Figure at 0x1112580d0>"
      ]
     },
     "metadata": {},
     "output_type": "display_data"
    }
   ],
   "source": [
    "#Graph grouped by Distance\n",
    "\n",
    "g_distance= (df.groupby(['DISTANCE_GROUP', 'label']).count()['YEAR']*100/df.groupby(['DISTANCE_GROUP']).count()['YEAR']).to_frame()\n",
    "g_distance.reset_index(level=0, inplace=True)\n",
    "g_distance.reset_index(level=0, inplace=True)\n",
    "g_distance.columns = ['label', 'Distance_group', 'pec']\n",
    "\n",
    "#Bottom graph\n",
    "distance_ontime = g_distance[g_distance.label == 0]['pec']\n",
    "#Top graph\n",
    "distance_delayed = g_distance[g_distance.label == 1]['pec']\n",
    "\n",
    "plt.figure(figsize=(12,6))\n",
    "plt.subplot(121)\n",
    "N = len(distance_ontime)\n",
    "ind = np.arange(N)\n",
    "p1 = plt.bar(ind, distance_delayed, color='#d62728')\n",
    "p2 = plt.bar(ind, distance_ontime, bottom=distance_delayed)\n",
    "\n",
    "plt.title(\"Percentage of Flights Delayed/OnTime by Distance Groups\")\n",
    "plt.legend((p1[0], p2[0]), ('Delayed','OnTime'))\n",
    "plt.ylabel('Percentage %')\n",
    "plt.xlabel('Distance Group')\n",
    "plt.xticks(ind, distance_group_label, rotation=90)\n",
    "\n",
    "# Bar group flight counts grouped by Departure Time\n",
    "plt.subplot(122)\n",
    "distance_counts = df.groupby(['DISTANCE_GROUP']).count()['YEAR']\n",
    "N1 = len(distance_counts)\n",
    "ind1 = np.arange(N1)\n",
    "plt.bar(ind1,distance_counts, color='y')\n",
    "plt.title(\"Flights Counts grouped by Distance\")\n",
    "plt.ylabel('Flight Counts')\n",
    "plt.xlabel('Distance Group')\n",
    "plt.xticks(ind1, distance_group_label, rotation=90)\n",
    "plt.tight_layout()\n",
    "plt.show()"
   ]
  },
  {
   "cell_type": "code",
   "execution_count": null,
   "metadata": {
    "collapsed": true
   },
   "outputs": [],
   "source": []
  },
  {
   "cell_type": "code",
   "execution_count": null,
   "metadata": {
    "collapsed": true
   },
   "outputs": [],
   "source": []
  }
 ],
 "metadata": {
  "kernelspec": {
   "display_name": "Python 2",
   "language": "python",
   "name": "python2"
  },
  "language_info": {
   "codemirror_mode": {
    "name": "ipython",
    "version": 2
   },
   "file_extension": ".py",
   "mimetype": "text/x-python",
   "name": "python",
   "nbconvert_exporter": "python",
   "pygments_lexer": "ipython2",
   "version": "2.7.13"
  }
 },
 "nbformat": 4,
 "nbformat_minor": 2
}
